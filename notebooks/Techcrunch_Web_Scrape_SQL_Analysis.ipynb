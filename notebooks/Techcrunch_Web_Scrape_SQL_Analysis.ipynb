{
 "cells": [
  {
   "cell_type": "code",
   "execution_count": null,
   "id": "07b9ce44",
   "metadata": {},
   "outputs": [],
   "source": [
    "# Descriptive Business Question: What are the top 10 most frequently occurring article titles across all scrapes?"
   ]
  },
  {
   "cell_type": "code",
   "execution_count": null,
   "id": "f2491948",
   "metadata": {},
   "outputs": [],
   "source": [
    "\n",
    "import pandas as pd\n",
    "from sqlalchemy import create_engine\n",
    "import os\n",
    "from dotenv import load_dotenv\n",
    "\n",
    "# Load env variables\n",
    "load_dotenv()\n",
    "\n",
    "PG_USER = os.getenv(\"PG_USER\")\n",
    "PG_PASSWORD = os.getenv(\"PG_PASSWORD\")\n",
    "PG_HOST = os.getenv(\"PG_HOST\")\n",
    "PG_PORT = os.getenv(\"PG_PORT\")\n",
    "PG_DB = os.getenv(\"PG_DB\")\n",
    "\n",
    "# Create the engine\n",
    "engine = create_engine(\n",
    "    f\"postgresql+psycopg2://{PG_USER}:{PG_PASSWORD}@{PG_HOST}:{PG_PORT}/{PG_DB}\"\n",
    ")\n"
   ]
  },
  {
   "cell_type": "code",
   "execution_count": null,
   "id": "ee9fe2bc",
   "metadata": {},
   "outputs": [],
   "source": [
    "sql_query = '''\n",
    "WITH title_counts AS (\n",
    "    SELECT\n",
    "        LOWER(TRIM(title)) AS cleaned_title,\n",
    "        COUNT(*) AS frequency,\n",
    "        MAX(published_at) AS most_recent\n",
    "    FROM sql_project.techcrunch_articles\n",
    "    GROUP BY LOWER(TRIM(title))\n",
    "),\n",
    "ranked_titles AS (\n",
    "    SELECT *,\n",
    "           RANK() OVER (ORDER BY frequency DESC) AS freq_rank\n",
    "    FROM title_counts\n",
    ")\n",
    "SELECT *\n",
    "FROM ranked_titles\n",
    "ORDER BY freq_rank\n",
    "LIMIT 10;\n",
    "'''\n",
    "\n",
    "df = pd.read_sql(sql_query, engine)\n",
    "pd.set_option('display.max_rows', None)\n",
    "df\n",
    "\n",
    "\n"
   ]
  },
  {
   "cell_type": "code",
   "execution_count": null,
   "id": "0440e771",
   "metadata": {},
   "outputs": [],
   "source": [
    "# Diagnostic Business Question - Are the most frequently repeated article titles being published around the same time, possibly linked to specific news cycles or events?"
   ]
  },
  {
   "cell_type": "code",
   "execution_count": 4,
   "id": "0b43e58f",
   "metadata": {},
   "outputs": [
    {
     "data": {
      "text/html": [
       "<div>\n",
       "<style scoped>\n",
       "    .dataframe tbody tr th:only-of-type {\n",
       "        vertical-align: middle;\n",
       "    }\n",
       "\n",
       "    .dataframe tbody tr th {\n",
       "        vertical-align: top;\n",
       "    }\n",
       "\n",
       "    .dataframe thead th {\n",
       "        text-align: right;\n",
       "    }\n",
       "</style>\n",
       "<table border=\"1\" class=\"dataframe\">\n",
       "  <thead>\n",
       "    <tr style=\"text-align: right;\">\n",
       "      <th></th>\n",
       "      <th>title</th>\n",
       "      <th>publish_day</th>\n",
       "      <th>frequency</th>\n",
       "      <th>repeat_order</th>\n",
       "    </tr>\n",
       "  </thead>\n",
       "  <tbody>\n",
       "  </tbody>\n",
       "</table>\n",
       "</div>"
      ],
      "text/plain": [
       "Empty DataFrame\n",
       "Columns: [title, publish_day, frequency, repeat_order]\n",
       "Index: []"
      ]
     },
     "execution_count": 4,
     "metadata": {},
     "output_type": "execute_result"
    }
   ],
   "source": [
    "sql_query = '''\n",
    "WITH title_counts AS (\n",
    "    SELECT\n",
    "        LOWER(TRIM(title)) AS cleaned_title,\n",
    "        COUNT(*) AS frequency\n",
    "    FROM sql_project.techcrunch_articles\n",
    "    GROUP BY LOWER(TRIM(title))\n",
    "    HAVING COUNT(*) > 1\n",
    "),\n",
    "repeated_articles AS (\n",
    "    SELECT\n",
    "        a.title,\n",
    "        a.published_at,\n",
    "        tc.frequency,\n",
    "        DENSE_RANK() OVER (PARTITION BY LOWER(TRIM(a.title)) ORDER BY a.published_at) AS repeat_order\n",
    "    FROM sql_project.techcrunch_articles a\n",
    "    JOIN title_counts tc\n",
    "        ON LOWER(TRIM(a.title)) = tc.cleaned_title\n",
    ")\n",
    "SELECT\n",
    "    title,\n",
    "    published_at::date AS publish_day,\n",
    "    frequency,\n",
    "    repeat_order\n",
    "FROM repeated_articles\n",
    "ORDER BY title, publish_day;\n",
    "'''\n",
    "\n",
    "df = pd.read_sql(sql_query, engine)\n",
    "pd.set_option('display.max_rows', None)\n",
    "df"
   ]
  },
  {
   "cell_type": "code",
   "execution_count": null,
   "id": "e9ddf5c8",
   "metadata": {},
   "outputs": [],
   "source": [
    "# Descriptive --\n",
    "\n",
    "#Insight: Repeated article titles suggest TechCrunch frequently updates or republishes key stories over time.\n",
    "\n",
    "#Recommendation: Monitor these titles to track evolving narratives and editorial priorities.\n",
    "\n",
    "#Prediction: These articles will likely resurface during major tech events, signaling trend continuity."
   ]
  },
  {
   "cell_type": "code",
   "execution_count": null,
   "id": "5ddd23ea",
   "metadata": {},
   "outputs": [],
   "source": [
    "# Diagnotic --\n",
    "\n",
    "#Insight:Repeated titles cluster around similar publish dates, suggesting editorial republishing cycles or coverage of ongoing stories.\n",
    "\n",
    "#Recommendation:Monitor these repeat patterns to anticipate when certain stories may resurface and prepare related content or responses.\n",
    "\n",
    "#Prediction:Repeated article topics will likely reappear during future high-traffic tech events (e.g., major product launches, IPOs).\n"
   ]
  }
 ],
 "metadata": {
  "kernelspec": {
   "display_name": "Python 3",
   "language": "python",
   "name": "python3"
  },
  "language_info": {
   "codemirror_mode": {
    "name": "ipython",
    "version": 3
   },
   "file_extension": ".py",
   "mimetype": "text/x-python",
   "name": "python",
   "nbconvert_exporter": "python",
   "pygments_lexer": "ipython3",
   "version": "3.12.1"
  }
 },
 "nbformat": 4,
 "nbformat_minor": 5
}
