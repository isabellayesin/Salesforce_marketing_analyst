{
 "cells": [
  {
   "cell_type": "code",
   "execution_count": 8,
   "id": "07b9ce44",
   "metadata": {},
   "outputs": [],
   "source": [
    "#Business Question: What are the top 10 most frequently occurring article titles across all scrapes?"
   ]
  },
  {
   "cell_type": "code",
   "execution_count": 2,
   "id": "f2491948",
   "metadata": {},
   "outputs": [],
   "source": [
    "\n",
    "import pandas as pd\n",
    "from sqlalchemy import create_engine\n",
    "import os\n",
    "from dotenv import load_dotenv\n",
    "\n",
    "# Load env variables\n",
    "load_dotenv()\n",
    "\n",
    "PG_USER = os.getenv(\"PG_USER\")\n",
    "PG_PASSWORD = os.getenv(\"PG_PASSWORD\")\n",
    "PG_HOST = os.getenv(\"PG_HOST\")\n",
    "PG_PORT = os.getenv(\"PG_PORT\")\n",
    "PG_DB = os.getenv(\"PG_DB\")\n",
    "\n",
    "# Create the engine\n",
    "engine = create_engine(\n",
    "    f\"postgresql+psycopg2://{PG_USER}:{PG_PASSWORD}@{PG_HOST}:{PG_PORT}/{PG_DB}\"\n",
    ")\n"
   ]
  },
  {
   "cell_type": "code",
   "execution_count": 3,
   "id": "ee9fe2bc",
   "metadata": {},
   "outputs": [],
   "source": [
    "sql_query = '''\n",
    "WITH title_counts AS (\n",
    "    SELECT\n",
    "        LOWER(TRIM(title)) AS cleaned_title,\n",
    "        COUNT(*) AS frequency,\n",
    "        MAX(published_at) AS most_recent\n",
    "    FROM sql_project.techcrunch_articles\n",
    "    GROUP BY LOWER(TRIM(title))\n",
    "),\n",
    "ranked_titles AS (\n",
    "    SELECT *,\n",
    "           RANK() OVER (ORDER BY frequency DESC) AS freq_rank\n",
    "    FROM title_counts\n",
    ")\n",
    "SELECT *\n",
    "FROM ranked_titles\n",
    "ORDER BY freq_rank\n",
    "LIMIT 10;\n",
    "'''\n",
    "\n",
    "df = pd.read_sql(sql_query, engine)\n",
    "pd.set_option('display.max_rows', None)\n",
    "df\n",
    "\n",
    "# Export to CSV\n",
    "df.to_csv('reports/techcrunch_top_titles.csv', index=False)  # For TechCrunch\n"
   ]
  },
  {
   "cell_type": "code",
   "execution_count": 15,
   "id": "e9ddf5c8",
   "metadata": {},
   "outputs": [],
   "source": [
    "#Insight: Repeated article titles suggest TechCrunch frequently updates or republishes key stories over time.\n",
    "#Recommendation: Monitor these titles to track evolving narratives and editorial priorities.\n",
    "#Prediction: These articles will likely resurface during major tech events, signaling trend continuity."
   ]
  }
 ],
 "metadata": {
  "kernelspec": {
   "display_name": "Python 3",
   "language": "python",
   "name": "python3"
  },
  "language_info": {
   "codemirror_mode": {
    "name": "ipython",
    "version": 3
   },
   "file_extension": ".py",
   "mimetype": "text/x-python",
   "name": "python",
   "nbconvert_exporter": "python",
   "pygments_lexer": "ipython3",
   "version": "3.12.1"
  }
 },
 "nbformat": 4,
 "nbformat_minor": 5
}
