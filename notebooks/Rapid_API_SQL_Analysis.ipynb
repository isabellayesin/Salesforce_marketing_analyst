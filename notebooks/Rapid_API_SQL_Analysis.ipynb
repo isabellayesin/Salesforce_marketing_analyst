{
 "cells": [
  {
   "cell_type": "code",
   "execution_count": 1,
   "id": "940ed201",
   "metadata": {},
   "outputs": [],
   "source": [
    "import os\n",
    "import pandas as pd\n",
    "from sqlalchemy import create_engine\n",
    "from dotenv import load_dotenv\n",
    "\n",
    "\n",
    "os.makedirs(\"reports\", exist_ok=True)\n",
    "\n",
    "\n",
    "# Load credentials\n",
    "load_dotenv()\n",
    "engine = create_engine(\n",
    "    f\"postgresql+psycopg2://{os.getenv('PG_USER')}:{os.getenv('PG_PASSWORD')}@{os.getenv('PG_HOST')}:{os.getenv('PG_PORT')}/{os.getenv('PG_DB')}\"\n",
    ")\n",
    "pd.set_option('display.max_rows', None)\n"
   ]
  },
  {
   "cell_type": "code",
   "execution_count": 2,
   "id": "2c9be383",
   "metadata": {},
   "outputs": [],
   "source": [
    "# Business Question: What are the top 10 keywords with the highest search volume but low competition?"
   ]
  },
  {
   "cell_type": "code",
   "execution_count": 3,
   "id": "aaadcde4",
   "metadata": {},
   "outputs": [],
   "source": [
    "sql_query = '''\n",
    "WITH recent_keywords AS (\n",
    "    SELECT *\n",
    "    FROM sql_project.api_keywords\n",
    "    WHERE scraped_at = (SELECT MAX(scraped_at) FROM sql_project.api_keywords)\n",
    ")\n",
    "SELECT \n",
    "    keyword,\n",
    "    vol,\n",
    "    cpc::float8 AS cpc,\n",
    "    competition,\n",
    "    score\n",
    "FROM recent_keywords\n",
    "WHERE LOWER(competition) = 'low'\n",
    "ORDER BY vol DESC\n",
    "LIMIT 10;\n",
    "'''\n"
   ]
  },
  {
   "cell_type": "code",
   "execution_count": 7,
   "id": "3e9060de",
   "metadata": {},
   "outputs": [],
   "source": [
    "df = pd.read_sql(sql_query, engine)\n",
    "pd.set_option('display.max_rows', None)\n",
    "df\n",
    "\n",
    "# Export to CSV\n",
    "df.to_csv('reports/api_top_keywords.csv', index=False)  # For API keywords\n",
    "\n",
    "\n",
    "\n"
   ]
  },
  {
   "cell_type": "code",
   "execution_count": 5,
   "id": "d3f1081f",
   "metadata": {},
   "outputs": [],
   "source": [
    "#Insight - These keywords are highly searched but face little competition, making them great for content or ad targeting.\n",
    "\n",
    "#Recommendation - Prioritize these for SEO blog posts or cost-efficient ad bids before competitors do.\n",
    "\n",
    "#Prediction - Some of these low-competition terms may become more competitive as others discover them — track their CPC over time."
   ]
  }
 ],
 "metadata": {
  "kernelspec": {
   "display_name": "Python 3",
   "language": "python",
   "name": "python3"
  },
  "language_info": {
   "codemirror_mode": {
    "name": "ipython",
    "version": 3
   },
   "file_extension": ".py",
   "mimetype": "text/x-python",
   "name": "python",
   "nbconvert_exporter": "python",
   "pygments_lexer": "ipython3",
   "version": "3.12.1"
  }
 },
 "nbformat": 4,
 "nbformat_minor": 5
}
